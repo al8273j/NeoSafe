{
 "cells": [
  {
   "cell_type": "code",
   "execution_count": 120,
   "id": "d4438a0e-3cc4-4ebb-9bfa-566ba4ce00b2",
   "metadata": {},
   "outputs": [],
   "source": [
    "import pandas as pd\n",
    "import numpy as np\n",
    "import os\n",
    "import matplotlib.pyplot as plt\n",
    "import seaborn as sns\n",
    "from collections import Counter \n",
    "%matplotlib inline\n",
    "from sklearn.linear_model import LogisticRegression\n",
    "from sklearn.model_selection import train_test_split\n",
    "from sklearn.metrics import log_loss\n",
    "from sklearn.preprocessing import StandardScaler\n",
    "\n",
    "from sklearn.ensemble import StackingClassifier, GradientBoostingClassifier, RandomForestClassifier\n",
    "from sklearn.model_selection import train_test_split, GridSearchCV, RandomizedSearchCV\n",
    "from sklearn.tree import DecisionTreeClassifier\n",
    "from sklearn.metrics import accuracy_score, confusion_matrix, precision_recall_curve, mean_squared_error, r2_score"
   ]
  },
  {
   "cell_type": "code",
   "execution_count": 121,
   "id": "19f0cbef-63f3-4d0c-a7a4-9b1755e30c12",
   "metadata": {},
   "outputs": [],
   "source": [
    "file_path = 'fetal_health.csv'\n",
    "df_fetal = pd.read_csv(file_path)"
   ]
  },
  {
   "cell_type": "code",
   "execution_count": 122,
   "id": "befed1ab-cf31-4449-b8b3-0cfd84cf7386",
   "metadata": {},
   "outputs": [
    {
     "data": {
      "text/html": [
       "<div>\n",
       "<style scoped>\n",
       "    .dataframe tbody tr th:only-of-type {\n",
       "        vertical-align: middle;\n",
       "    }\n",
       "\n",
       "    .dataframe tbody tr th {\n",
       "        vertical-align: top;\n",
       "    }\n",
       "\n",
       "    .dataframe thead th {\n",
       "        text-align: right;\n",
       "    }\n",
       "</style>\n",
       "<table border=\"1\" class=\"dataframe\">\n",
       "  <thead>\n",
       "    <tr style=\"text-align: right;\">\n",
       "      <th></th>\n",
       "      <th>baseline value</th>\n",
       "      <th>accelerations</th>\n",
       "      <th>fetal_movement</th>\n",
       "      <th>uterine_contractions</th>\n",
       "      <th>light_decelerations</th>\n",
       "      <th>severe_decelerations</th>\n",
       "      <th>prolongued_decelerations</th>\n",
       "      <th>abnormal_short_term_variability</th>\n",
       "      <th>mean_value_of_short_term_variability</th>\n",
       "      <th>percentage_of_time_with_abnormal_long_term_variability</th>\n",
       "      <th>...</th>\n",
       "      <th>histogram_min</th>\n",
       "      <th>histogram_max</th>\n",
       "      <th>histogram_number_of_peaks</th>\n",
       "      <th>histogram_number_of_zeroes</th>\n",
       "      <th>histogram_mode</th>\n",
       "      <th>histogram_mean</th>\n",
       "      <th>histogram_median</th>\n",
       "      <th>histogram_variance</th>\n",
       "      <th>histogram_tendency</th>\n",
       "      <th>fetal_health</th>\n",
       "    </tr>\n",
       "  </thead>\n",
       "  <tbody>\n",
       "    <tr>\n",
       "      <th>0</th>\n",
       "      <td>120.0</td>\n",
       "      <td>0.000</td>\n",
       "      <td>0.0</td>\n",
       "      <td>0.000</td>\n",
       "      <td>0.000</td>\n",
       "      <td>0.0</td>\n",
       "      <td>0.000</td>\n",
       "      <td>73.0</td>\n",
       "      <td>0.5</td>\n",
       "      <td>43.0</td>\n",
       "      <td>...</td>\n",
       "      <td>62.0</td>\n",
       "      <td>126.0</td>\n",
       "      <td>2.0</td>\n",
       "      <td>0.0</td>\n",
       "      <td>120.0</td>\n",
       "      <td>137.0</td>\n",
       "      <td>121.0</td>\n",
       "      <td>73.0</td>\n",
       "      <td>1.0</td>\n",
       "      <td>2.0</td>\n",
       "    </tr>\n",
       "    <tr>\n",
       "      <th>1</th>\n",
       "      <td>132.0</td>\n",
       "      <td>0.006</td>\n",
       "      <td>0.0</td>\n",
       "      <td>0.006</td>\n",
       "      <td>0.003</td>\n",
       "      <td>0.0</td>\n",
       "      <td>0.000</td>\n",
       "      <td>17.0</td>\n",
       "      <td>2.1</td>\n",
       "      <td>0.0</td>\n",
       "      <td>...</td>\n",
       "      <td>68.0</td>\n",
       "      <td>198.0</td>\n",
       "      <td>6.0</td>\n",
       "      <td>1.0</td>\n",
       "      <td>141.0</td>\n",
       "      <td>136.0</td>\n",
       "      <td>140.0</td>\n",
       "      <td>12.0</td>\n",
       "      <td>0.0</td>\n",
       "      <td>1.0</td>\n",
       "    </tr>\n",
       "    <tr>\n",
       "      <th>2</th>\n",
       "      <td>133.0</td>\n",
       "      <td>0.003</td>\n",
       "      <td>0.0</td>\n",
       "      <td>0.008</td>\n",
       "      <td>0.003</td>\n",
       "      <td>0.0</td>\n",
       "      <td>0.000</td>\n",
       "      <td>16.0</td>\n",
       "      <td>2.1</td>\n",
       "      <td>0.0</td>\n",
       "      <td>...</td>\n",
       "      <td>68.0</td>\n",
       "      <td>198.0</td>\n",
       "      <td>5.0</td>\n",
       "      <td>1.0</td>\n",
       "      <td>141.0</td>\n",
       "      <td>135.0</td>\n",
       "      <td>138.0</td>\n",
       "      <td>13.0</td>\n",
       "      <td>0.0</td>\n",
       "      <td>1.0</td>\n",
       "    </tr>\n",
       "    <tr>\n",
       "      <th>3</th>\n",
       "      <td>134.0</td>\n",
       "      <td>0.003</td>\n",
       "      <td>0.0</td>\n",
       "      <td>0.008</td>\n",
       "      <td>0.003</td>\n",
       "      <td>0.0</td>\n",
       "      <td>0.000</td>\n",
       "      <td>16.0</td>\n",
       "      <td>2.4</td>\n",
       "      <td>0.0</td>\n",
       "      <td>...</td>\n",
       "      <td>53.0</td>\n",
       "      <td>170.0</td>\n",
       "      <td>11.0</td>\n",
       "      <td>0.0</td>\n",
       "      <td>137.0</td>\n",
       "      <td>134.0</td>\n",
       "      <td>137.0</td>\n",
       "      <td>13.0</td>\n",
       "      <td>1.0</td>\n",
       "      <td>1.0</td>\n",
       "    </tr>\n",
       "    <tr>\n",
       "      <th>4</th>\n",
       "      <td>132.0</td>\n",
       "      <td>0.007</td>\n",
       "      <td>0.0</td>\n",
       "      <td>0.008</td>\n",
       "      <td>0.000</td>\n",
       "      <td>0.0</td>\n",
       "      <td>0.000</td>\n",
       "      <td>16.0</td>\n",
       "      <td>2.4</td>\n",
       "      <td>0.0</td>\n",
       "      <td>...</td>\n",
       "      <td>53.0</td>\n",
       "      <td>170.0</td>\n",
       "      <td>9.0</td>\n",
       "      <td>0.0</td>\n",
       "      <td>137.0</td>\n",
       "      <td>136.0</td>\n",
       "      <td>138.0</td>\n",
       "      <td>11.0</td>\n",
       "      <td>1.0</td>\n",
       "      <td>1.0</td>\n",
       "    </tr>\n",
       "    <tr>\n",
       "      <th>5</th>\n",
       "      <td>134.0</td>\n",
       "      <td>0.001</td>\n",
       "      <td>0.0</td>\n",
       "      <td>0.010</td>\n",
       "      <td>0.009</td>\n",
       "      <td>0.0</td>\n",
       "      <td>0.002</td>\n",
       "      <td>26.0</td>\n",
       "      <td>5.9</td>\n",
       "      <td>0.0</td>\n",
       "      <td>...</td>\n",
       "      <td>50.0</td>\n",
       "      <td>200.0</td>\n",
       "      <td>5.0</td>\n",
       "      <td>3.0</td>\n",
       "      <td>76.0</td>\n",
       "      <td>107.0</td>\n",
       "      <td>107.0</td>\n",
       "      <td>170.0</td>\n",
       "      <td>0.0</td>\n",
       "      <td>3.0</td>\n",
       "    </tr>\n",
       "    <tr>\n",
       "      <th>6</th>\n",
       "      <td>134.0</td>\n",
       "      <td>0.001</td>\n",
       "      <td>0.0</td>\n",
       "      <td>0.013</td>\n",
       "      <td>0.008</td>\n",
       "      <td>0.0</td>\n",
       "      <td>0.003</td>\n",
       "      <td>29.0</td>\n",
       "      <td>6.3</td>\n",
       "      <td>0.0</td>\n",
       "      <td>...</td>\n",
       "      <td>50.0</td>\n",
       "      <td>200.0</td>\n",
       "      <td>6.0</td>\n",
       "      <td>3.0</td>\n",
       "      <td>71.0</td>\n",
       "      <td>107.0</td>\n",
       "      <td>106.0</td>\n",
       "      <td>215.0</td>\n",
       "      <td>0.0</td>\n",
       "      <td>3.0</td>\n",
       "    </tr>\n",
       "    <tr>\n",
       "      <th>7</th>\n",
       "      <td>122.0</td>\n",
       "      <td>0.000</td>\n",
       "      <td>0.0</td>\n",
       "      <td>0.000</td>\n",
       "      <td>0.000</td>\n",
       "      <td>0.0</td>\n",
       "      <td>0.000</td>\n",
       "      <td>83.0</td>\n",
       "      <td>0.5</td>\n",
       "      <td>6.0</td>\n",
       "      <td>...</td>\n",
       "      <td>62.0</td>\n",
       "      <td>130.0</td>\n",
       "      <td>0.0</td>\n",
       "      <td>0.0</td>\n",
       "      <td>122.0</td>\n",
       "      <td>122.0</td>\n",
       "      <td>123.0</td>\n",
       "      <td>3.0</td>\n",
       "      <td>1.0</td>\n",
       "      <td>3.0</td>\n",
       "    </tr>\n",
       "    <tr>\n",
       "      <th>8</th>\n",
       "      <td>122.0</td>\n",
       "      <td>0.000</td>\n",
       "      <td>0.0</td>\n",
       "      <td>0.002</td>\n",
       "      <td>0.000</td>\n",
       "      <td>0.0</td>\n",
       "      <td>0.000</td>\n",
       "      <td>84.0</td>\n",
       "      <td>0.5</td>\n",
       "      <td>5.0</td>\n",
       "      <td>...</td>\n",
       "      <td>62.0</td>\n",
       "      <td>130.0</td>\n",
       "      <td>0.0</td>\n",
       "      <td>0.0</td>\n",
       "      <td>122.0</td>\n",
       "      <td>122.0</td>\n",
       "      <td>123.0</td>\n",
       "      <td>3.0</td>\n",
       "      <td>1.0</td>\n",
       "      <td>3.0</td>\n",
       "    </tr>\n",
       "    <tr>\n",
       "      <th>9</th>\n",
       "      <td>122.0</td>\n",
       "      <td>0.000</td>\n",
       "      <td>0.0</td>\n",
       "      <td>0.003</td>\n",
       "      <td>0.000</td>\n",
       "      <td>0.0</td>\n",
       "      <td>0.000</td>\n",
       "      <td>86.0</td>\n",
       "      <td>0.3</td>\n",
       "      <td>6.0</td>\n",
       "      <td>...</td>\n",
       "      <td>62.0</td>\n",
       "      <td>130.0</td>\n",
       "      <td>1.0</td>\n",
       "      <td>0.0</td>\n",
       "      <td>122.0</td>\n",
       "      <td>122.0</td>\n",
       "      <td>123.0</td>\n",
       "      <td>1.0</td>\n",
       "      <td>1.0</td>\n",
       "      <td>3.0</td>\n",
       "    </tr>\n",
       "  </tbody>\n",
       "</table>\n",
       "<p>10 rows × 22 columns</p>\n",
       "</div>"
      ],
      "text/plain": [
       "   baseline value  accelerations  fetal_movement  uterine_contractions  \\\n",
       "0           120.0          0.000             0.0                 0.000   \n",
       "1           132.0          0.006             0.0                 0.006   \n",
       "2           133.0          0.003             0.0                 0.008   \n",
       "3           134.0          0.003             0.0                 0.008   \n",
       "4           132.0          0.007             0.0                 0.008   \n",
       "5           134.0          0.001             0.0                 0.010   \n",
       "6           134.0          0.001             0.0                 0.013   \n",
       "7           122.0          0.000             0.0                 0.000   \n",
       "8           122.0          0.000             0.0                 0.002   \n",
       "9           122.0          0.000             0.0                 0.003   \n",
       "\n",
       "   light_decelerations  severe_decelerations  prolongued_decelerations  \\\n",
       "0                0.000                   0.0                     0.000   \n",
       "1                0.003                   0.0                     0.000   \n",
       "2                0.003                   0.0                     0.000   \n",
       "3                0.003                   0.0                     0.000   \n",
       "4                0.000                   0.0                     0.000   \n",
       "5                0.009                   0.0                     0.002   \n",
       "6                0.008                   0.0                     0.003   \n",
       "7                0.000                   0.0                     0.000   \n",
       "8                0.000                   0.0                     0.000   \n",
       "9                0.000                   0.0                     0.000   \n",
       "\n",
       "   abnormal_short_term_variability  mean_value_of_short_term_variability  \\\n",
       "0                             73.0                                   0.5   \n",
       "1                             17.0                                   2.1   \n",
       "2                             16.0                                   2.1   \n",
       "3                             16.0                                   2.4   \n",
       "4                             16.0                                   2.4   \n",
       "5                             26.0                                   5.9   \n",
       "6                             29.0                                   6.3   \n",
       "7                             83.0                                   0.5   \n",
       "8                             84.0                                   0.5   \n",
       "9                             86.0                                   0.3   \n",
       "\n",
       "   percentage_of_time_with_abnormal_long_term_variability  ...  histogram_min  \\\n",
       "0                                               43.0       ...           62.0   \n",
       "1                                                0.0       ...           68.0   \n",
       "2                                                0.0       ...           68.0   \n",
       "3                                                0.0       ...           53.0   \n",
       "4                                                0.0       ...           53.0   \n",
       "5                                                0.0       ...           50.0   \n",
       "6                                                0.0       ...           50.0   \n",
       "7                                                6.0       ...           62.0   \n",
       "8                                                5.0       ...           62.0   \n",
       "9                                                6.0       ...           62.0   \n",
       "\n",
       "   histogram_max  histogram_number_of_peaks  histogram_number_of_zeroes  \\\n",
       "0          126.0                        2.0                         0.0   \n",
       "1          198.0                        6.0                         1.0   \n",
       "2          198.0                        5.0                         1.0   \n",
       "3          170.0                       11.0                         0.0   \n",
       "4          170.0                        9.0                         0.0   \n",
       "5          200.0                        5.0                         3.0   \n",
       "6          200.0                        6.0                         3.0   \n",
       "7          130.0                        0.0                         0.0   \n",
       "8          130.0                        0.0                         0.0   \n",
       "9          130.0                        1.0                         0.0   \n",
       "\n",
       "   histogram_mode  histogram_mean  histogram_median  histogram_variance  \\\n",
       "0           120.0           137.0             121.0                73.0   \n",
       "1           141.0           136.0             140.0                12.0   \n",
       "2           141.0           135.0             138.0                13.0   \n",
       "3           137.0           134.0             137.0                13.0   \n",
       "4           137.0           136.0             138.0                11.0   \n",
       "5            76.0           107.0             107.0               170.0   \n",
       "6            71.0           107.0             106.0               215.0   \n",
       "7           122.0           122.0             123.0                 3.0   \n",
       "8           122.0           122.0             123.0                 3.0   \n",
       "9           122.0           122.0             123.0                 1.0   \n",
       "\n",
       "   histogram_tendency  fetal_health  \n",
       "0                 1.0           2.0  \n",
       "1                 0.0           1.0  \n",
       "2                 0.0           1.0  \n",
       "3                 1.0           1.0  \n",
       "4                 1.0           1.0  \n",
       "5                 0.0           3.0  \n",
       "6                 0.0           3.0  \n",
       "7                 1.0           3.0  \n",
       "8                 1.0           3.0  \n",
       "9                 1.0           3.0  \n",
       "\n",
       "[10 rows x 22 columns]"
      ]
     },
     "execution_count": 122,
     "metadata": {},
     "output_type": "execute_result"
    }
   ],
   "source": [
    "df_fetal.head(10)"
   ]
  },
  {
   "cell_type": "code",
   "execution_count": 123,
   "id": "f422a903-bf0e-4910-9152-4a541345f7d0",
   "metadata": {},
   "outputs": [
    {
     "data": {
      "text/plain": [
       "['baseline value',\n",
       " 'accelerations',\n",
       " 'fetal_movement',\n",
       " 'uterine_contractions',\n",
       " 'light_decelerations',\n",
       " 'severe_decelerations',\n",
       " 'prolongued_decelerations',\n",
       " 'abnormal_short_term_variability',\n",
       " 'mean_value_of_short_term_variability',\n",
       " 'percentage_of_time_with_abnormal_long_term_variability',\n",
       " 'mean_value_of_long_term_variability']"
      ]
     },
     "execution_count": 123,
     "metadata": {},
     "output_type": "execute_result"
    }
   ],
   "source": [
    "feature_list = [x for x in df_fetal.columns][:11:]\n",
    "feature_list"
   ]
  },
  {
   "cell_type": "code",
   "execution_count": 124,
   "id": "c2c4d379-7b3f-422a-975a-aa5f4ed4015f",
   "metadata": {},
   "outputs": [
    {
     "data": {
      "text/plain": [
       "['baseline value',\n",
       " 'accelerations',\n",
       " 'fetal_movement',\n",
       " 'uterine_contractions',\n",
       " 'light_decelerations',\n",
       " 'severe_decelerations',\n",
       " 'prolongued_decelerations',\n",
       " 'abnormal_short_term_variability',\n",
       " 'mean_value_of_short_term_variability',\n",
       " 'percentage_of_time_with_abnormal_long_term_variability',\n",
       " 'mean_value_of_long_term_variability']"
      ]
     },
     "execution_count": 124,
     "metadata": {},
     "output_type": "execute_result"
    }
   ],
   "source": [
    "feature_list"
   ]
  },
  {
   "cell_type": "code",
   "execution_count": 125,
   "id": "aea9a13f-440a-4702-8b85-d7ac69ace395",
   "metadata": {},
   "outputs": [],
   "source": [
    "y = df_fetal['fetal_health']\n",
    "X = df_fetal[feature_list]"
   ]
  },
  {
   "cell_type": "code",
   "execution_count": 126,
   "id": "198f4e82-d567-4fc8-89f7-4d89900989f2",
   "metadata": {},
   "outputs": [],
   "source": [
    "X_train, X_test, y_train, y_test = train_test_split(X, y, test_size=0.33,random_state=1234)"
   ]
  },
  {
   "cell_type": "code",
   "execution_count": 127,
   "id": "04416ccc-aa94-4fe5-be97-940b5538581a",
   "metadata": {},
   "outputs": [
    {
     "ename": "NameError",
     "evalue": "name 'FOREST' is not defined",
     "output_type": "error",
     "traceback": [
      "\u001b[0;31m---------------------------------------------------------------------------\u001b[0m",
      "\u001b[0;31mNameError\u001b[0m                                 Traceback (most recent call last)",
      "Cell \u001b[0;32mIn[127], line 1\u001b[0m\n\u001b[0;32m----> 1\u001b[0m FOREST\n",
      "\u001b[0;31mNameError\u001b[0m: name 'FOREST' is not defined"
     ]
    }
   ],
   "source": [
    "FOREST"
   ]
  },
  {
   "cell_type": "code",
   "execution_count": 128,
   "id": "fa3e8da7-f36e-4011-9818-82d7f0d410c5",
   "metadata": {},
   "outputs": [],
   "source": [
    "md = range(1, 24)\n",
    "n_est = [100,600]\n",
    "rf_param_grid={'max_depth':md, 'n_estimators':n_est, 'min_samples_leaf': [2,32]}"
   ]
  },
  {
   "cell_type": "code",
   "execution_count": 129,
   "id": "289d1780-1e60-4287-99a4-9a486b81bbc6",
   "metadata": {},
   "outputs": [
    {
     "name": "stdout",
     "output_type": "stream",
     "text": [
      "Running Grid Search...\n",
      "Done\n"
     ]
    }
   ],
   "source": [
    "print('Running Grid Search...')\n",
    "\n",
    "# 1. Create a LogisticRegression model object with the argument max_iter=1000. \n",
    "\n",
    "rf_model = RandomForestClassifier()\n",
    "\n",
    "\n",
    "# 2. Run a grid search with 5-fold cross-validation\n",
    "rf_grid = GridSearchCV(rf_model, rf_param_grid, cv=5)\n",
    "\n",
    "\n",
    "# 3. Fit the model on the training data\n",
    "rf_grid_search = rf_grid.fit(X_train, y_train)\n",
    "\n",
    "print('Done')"
   ]
  },
  {
   "cell_type": "code",
   "execution_count": 130,
   "id": "1d96cd43-6830-4a14-8b35-6ded5804e5f7",
   "metadata": {},
   "outputs": [
    {
     "data": {
      "text/plain": [
       "{'max_depth': 9, 'min_samples_leaf': 2, 'n_estimators': 600}"
      ]
     },
     "execution_count": 130,
     "metadata": {},
     "output_type": "execute_result"
    }
   ],
   "source": [
    "best_rf = rf_grid_search.best_params_\n",
    "best_rf"
   ]
  },
  {
   "cell_type": "code",
   "execution_count": 131,
   "id": "07fed030-deb2-48b3-ac5b-cc564ed88975",
   "metadata": {},
   "outputs": [
    {
     "name": "stdout",
     "output_type": "stream",
     "text": [
      "End\n"
     ]
    }
   ],
   "source": [
    "rf_model = RandomForestClassifier(max_depth = 23,\n",
    "n_estimators = 600, min_samples_leaf = 2)\n",
    "rf_model.fit(X_train, y_train)\n",
    "print('End')"
   ]
  },
  {
   "cell_type": "code",
   "execution_count": 132,
   "id": "b3a80d30-be04-4d48-9716-dcd6b3400a65",
   "metadata": {},
   "outputs": [],
   "source": [
    "y_rf_pred = rf_model.predict(X_test)"
   ]
  },
  {
   "cell_type": "code",
   "execution_count": 133,
   "id": "b9510593-d2a7-4aba-8d9f-f49b32a523ba",
   "metadata": {},
   "outputs": [],
   "source": [
    "rf_importances = rf_model.feature_importances_"
   ]
  },
  {
   "cell_type": "code",
   "execution_count": 134,
   "id": "b956f09b-7335-4079-9a6e-12cf3dc6eb28",
   "metadata": {},
   "outputs": [
    {
     "data": {
      "image/png": "[encoded data removed]",
      "text/plain": [
       "<Figure size 1000x600 with 1 Axes>"
      ]
     },
     "metadata": {},
     "output_type": "display_data"
    }
   ],
   "source": [
    "indices = np.argsort(rf_importances)[::-1]\n",
    "plt.figure(figsize=(10, 6))\n",
    "plt.title(\"RF Feature Importance\")\n",
    "plt.bar(range(X_train.shape[1]), rf_importances[indices], align='center')\n",
    "plt.xticks(range(X_train.shape[1]), X.columns[indices], rotation=90)\n",
    "plt.show()"
   ]
  },
  {
   "cell_type": "code",
   "execution_count": 135,
   "id": "66aca561-9a7b-45fd-99ae-e8767670fd5b",
   "metadata": {},
   "outputs": [
    {
     "name": "stdout",
     "output_type": "stream",
     "text": [
      "Random Forest Accuracy: 0.9387464387464387\n"
     ]
    }
   ],
   "source": [
    "rf_acc = accuracy_score(y_test, y_rf_pred)\n",
    "print(\"Random Forest Accuracy:\", rf_acc)"
   ]
  },
  {
   "cell_type": "code",
   "execution_count": 140,
   "id": "d408e9f2-82cf-4e66-9d3d-51e499c84cc7",
   "metadata": {},
   "outputs": [
    {
     "name": "stdout",
     "output_type": "stream",
     "text": [
      "Model saved successfully in the 'models' folder!\n"
     ]
    }
   ],
   "source": [
    "import pickle\n",
    "\n",
    "# Assuming GBDT_model is your trained model\n",
    "with open('Desktop/untitled folder/models/rf_model.pkl', 'wb') as file:\n",
    "    pickle.dump(rf_model, file)\n",
    "\n",
    "print(\"Model saved successfully in the 'models' folder!\")\n"
   ]
  },
  {
   "cell_type": "code",
   "execution_count": 72,
   "id": "c5584a6b-527e-4da2-8267-ae60e853480b",
   "metadata": {},
   "outputs": [
    {
     "data": {
      "text/plain": [
       "(2126, 22)"
      ]
     },
     "execution_count": 72,
     "metadata": {},
     "output_type": "execute_result"
    }
   ],
   "source": [
    "df_fetal.shape\n"
   ]
  },
  {
   "cell_type": "code",
   "execution_count": 77,
   "id": "fa4ebf8b-907d-4df3-ad76-5108ad41b0a4",
   "metadata": {},
   "outputs": [],
   "source": [
    "file_path = 'maternal_health.csv'\n",
    "df_maternal = pd.read_csv(file_path)"
   ]
  },
  {
   "cell_type": "code",
   "execution_count": 78,
   "id": "e48b9be9-65e8-48a4-b962-c9b6e614e6a9",
   "metadata": {},
   "outputs": [
    {
     "data": {
      "text/html": [
       "<div>\n",
       "<style scoped>\n",
       "    .dataframe tbody tr th:only-of-type {\n",
       "        vertical-align: middle;\n",
       "    }\n",
       "\n",
       "    .dataframe tbody tr th {\n",
       "        vertical-align: top;\n",
       "    }\n",
       "\n",
       "    .dataframe thead th {\n",
       "        text-align: right;\n",
       "    }\n",
       "</style>\n",
       "<table border=\"1\" class=\"dataframe\">\n",
       "  <thead>\n",
       "    <tr style=\"text-align: right;\">\n",
       "      <th></th>\n",
       "      <th>Age</th>\n",
       "      <th>SystolicBP</th>\n",
       "      <th>DiastolicBP</th>\n",
       "      <th>BS</th>\n",
       "      <th>BodyTemp</th>\n",
       "      <th>HeartRate</th>\n",
       "      <th>RiskLevel</th>\n",
       "    </tr>\n",
       "  </thead>\n",
       "  <tbody>\n",
       "    <tr>\n",
       "      <th>0</th>\n",
       "      <td>25</td>\n",
       "      <td>130</td>\n",
       "      <td>80</td>\n",
       "      <td>15.00</td>\n",
       "      <td>98.0</td>\n",
       "      <td>86</td>\n",
       "      <td>high risk</td>\n",
       "    </tr>\n",
       "    <tr>\n",
       "      <th>1</th>\n",
       "      <td>35</td>\n",
       "      <td>140</td>\n",
       "      <td>90</td>\n",
       "      <td>13.00</td>\n",
       "      <td>98.0</td>\n",
       "      <td>70</td>\n",
       "      <td>high risk</td>\n",
       "    </tr>\n",
       "    <tr>\n",
       "      <th>2</th>\n",
       "      <td>29</td>\n",
       "      <td>90</td>\n",
       "      <td>70</td>\n",
       "      <td>8.00</td>\n",
       "      <td>100.0</td>\n",
       "      <td>80</td>\n",
       "      <td>high risk</td>\n",
       "    </tr>\n",
       "    <tr>\n",
       "      <th>3</th>\n",
       "      <td>30</td>\n",
       "      <td>140</td>\n",
       "      <td>85</td>\n",
       "      <td>7.00</td>\n",
       "      <td>98.0</td>\n",
       "      <td>70</td>\n",
       "      <td>high risk</td>\n",
       "    </tr>\n",
       "    <tr>\n",
       "      <th>4</th>\n",
       "      <td>35</td>\n",
       "      <td>120</td>\n",
       "      <td>60</td>\n",
       "      <td>6.10</td>\n",
       "      <td>98.0</td>\n",
       "      <td>76</td>\n",
       "      <td>low risk</td>\n",
       "    </tr>\n",
       "    <tr>\n",
       "      <th>5</th>\n",
       "      <td>23</td>\n",
       "      <td>140</td>\n",
       "      <td>80</td>\n",
       "      <td>7.01</td>\n",
       "      <td>98.0</td>\n",
       "      <td>70</td>\n",
       "      <td>high risk</td>\n",
       "    </tr>\n",
       "    <tr>\n",
       "      <th>6</th>\n",
       "      <td>23</td>\n",
       "      <td>130</td>\n",
       "      <td>70</td>\n",
       "      <td>7.01</td>\n",
       "      <td>98.0</td>\n",
       "      <td>78</td>\n",
       "      <td>mid risk</td>\n",
       "    </tr>\n",
       "    <tr>\n",
       "      <th>7</th>\n",
       "      <td>35</td>\n",
       "      <td>85</td>\n",
       "      <td>60</td>\n",
       "      <td>11.00</td>\n",
       "      <td>102.0</td>\n",
       "      <td>86</td>\n",
       "      <td>high risk</td>\n",
       "    </tr>\n",
       "    <tr>\n",
       "      <th>8</th>\n",
       "      <td>32</td>\n",
       "      <td>120</td>\n",
       "      <td>90</td>\n",
       "      <td>6.90</td>\n",
       "      <td>98.0</td>\n",
       "      <td>70</td>\n",
       "      <td>mid risk</td>\n",
       "    </tr>\n",
       "    <tr>\n",
       "      <th>9</th>\n",
       "      <td>42</td>\n",
       "      <td>130</td>\n",
       "      <td>80</td>\n",
       "      <td>18.00</td>\n",
       "      <td>98.0</td>\n",
       "      <td>70</td>\n",
       "      <td>high risk</td>\n",
       "    </tr>\n",
       "  </tbody>\n",
       "</table>\n",
       "</div>"
      ],
      "text/plain": [
       "   Age  SystolicBP  DiastolicBP     BS  BodyTemp  HeartRate  RiskLevel\n",
       "0   25         130           80  15.00      98.0         86  high risk\n",
       "1   35         140           90  13.00      98.0         70  high risk\n",
       "2   29          90           70   8.00     100.0         80  high risk\n",
       "3   30         140           85   7.00      98.0         70  high risk\n",
       "4   35         120           60   6.10      98.0         76   low risk\n",
       "5   23         140           80   7.01      98.0         70  high risk\n",
       "6   23         130           70   7.01      98.0         78   mid risk\n",
       "7   35          85           60  11.00     102.0         86  high risk\n",
       "8   32         120           90   6.90      98.0         70   mid risk\n",
       "9   42         130           80  18.00      98.0         70  high risk"
      ]
     },
     "execution_count": 78,
     "metadata": {},
     "output_type": "execute_result"
    }
   ],
   "source": [
    "df_maternal.head(10)"
   ]
  },
  {
   "cell_type": "code",
   "execution_count": 79,
   "id": "7be7a668-1349-4036-bb7e-8c50f8f49fd0",
   "metadata": {},
   "outputs": [
    {
     "data": {
      "text/plain": [
       "(1014, 7)"
      ]
     },
     "execution_count": 79,
     "metadata": {},
     "output_type": "execute_result"
    }
   ],
   "source": [
    "df_maternal.shape"
   ]
  },
  {
   "cell_type": "code",
   "execution_count": 81,
   "id": "9778688f-5ee2-4e0d-814a-fdb30a9e8f83",
   "metadata": {},
   "outputs": [],
   "source": [
    "feature_list = [x for x in df_maternal.columns]\n",
    "feature_list.remove('RiskLevel')"
   ]
  },
  {
   "cell_type": "code",
   "execution_count": 83,
   "id": "0288f733-4a88-4c0c-8d1d-200f6cfd92c6",
   "metadata": {},
   "outputs": [],
   "source": [
    "y = df_maternal['RiskLevel']\n",
    "X = df_maternal[feature_list]"
   ]
  },
  {
   "cell_type": "code",
   "execution_count": 84,
   "id": "5e458834-6dca-4aa4-b61c-32d9e707e465",
   "metadata": {},
   "outputs": [],
   "source": [
    "X_train, X_test, y_train, y_test = train_test_split(X, y, test_size=0.33,random_state=1234)"
   ]
  },
  {
   "cell_type": "code",
   "execution_count": 85,
   "id": "19b255d7-b9b6-4820-a543-69ae8c2a757e",
   "metadata": {},
   "outputs": [],
   "source": [
    "ohe_RiskLevel = []\n",
    "for risk in df_maternal['RiskLevel']:\n",
    "    if 'high' in risk:\n",
    "        ohe_RiskLevel.append(3)\n",
    "    elif 'mid' in risk:\n",
    "        ohe_RiskLevel.append(2)\n",
    "    else:\n",
    "        ohe_RiskLevel.append(1)\n",
    "df_maternal['RiskLevel'] = ohe_RiskLevel"
   ]
  },
  {
   "cell_type": "code",
   "execution_count": 86,
   "id": "d297ee17-42e8-41b5-9fac-c9b8f8635424",
   "metadata": {},
   "outputs": [
    {
     "data": {
      "text/plain": [
       "0       3\n",
       "1       3\n",
       "2       3\n",
       "3       3\n",
       "4       1\n",
       "       ..\n",
       "1009    3\n",
       "1010    3\n",
       "1011    3\n",
       "1012    3\n",
       "1013    2\n",
       "Name: RiskLevel, Length: 1014, dtype: int64"
      ]
     },
     "execution_count": 86,
     "metadata": {},
     "output_type": "execute_result"
    }
   ],
   "source": [
    "df_maternal['RiskLevel']"
   ]
  },
  {
   "cell_type": "code",
   "execution_count": 87,
   "id": "0821cbdb-2938-4ea0-ad5b-1ac1d4bf2341",
   "metadata": {},
   "outputs": [],
   "source": [
    "GBDT_param_grid={\"learning_rate\": [.12, .13],\n",
    "    \"max_depth\":[1],\n",
    "    \"subsample\":[0.87],\n",
    "    \"n_estimators\":range(150,200)}"
   ]
  },
  {
   "cell_type": "code",
   "execution_count": 88,
   "id": "7a86eb62-0866-4b57-b413-025e89aa5b62",
   "metadata": {},
   "outputs": [
    {
     "data": {
      "text/plain": [
       "{'subsample': 0.87, 'n_estimators': 175, 'max_depth': 1, 'learning_rate': 0.13}"
      ]
     },
     "execution_count": 88,
     "metadata": {},
     "output_type": "execute_result"
    }
   ],
   "source": [
    "GBDT_model = GradientBoostingClassifier()\n",
    "rs = RandomizedSearchCV(GBDT_model, param_distributions=GBDT_param_grid,\n",
    "                        n_iter=10, scoring=\"accuracy\", random_state=0,\n",
    "                        n_jobs=-1, cv=5, return_train_score=True)\n",
    "rs.fit(X_train, y_train)\n",
    "rs.best_params_"
   ]
  },
  {
   "cell_type": "code",
   "execution_count": 89,
   "id": "35defc9d-ad35-4590-9d52-bb6f38620a4e",
   "metadata": {},
   "outputs": [
    {
     "name": "stdout",
     "output_type": "stream",
     "text": [
      "Running Grid Search...\n",
      "Done\n"
     ]
    }
   ],
   "source": [
    "print('Running Grid Search...')\n",
    "\n",
    "# 1. Create a GradientBoostingClassifier model object \n",
    "\n",
    "GBDT_model = GradientBoostingClassifier()\n",
    "\n",
    "\n",
    "# 2. Run a grid search with 5-fold cross-validation \n",
    "GBDT_grid = GridSearchCV(GBDT_model, GBDT_param_grid, cv=5)\n",
    "\n",
    "\n",
    "# 3. Fit the model on the training data\n",
    "GBDT_grid_search = GBDT_grid.fit(X_train, y_train)\n",
    "\n",
    "print('Done')"
   ]
  },
  {
   "cell_type": "code",
   "execution_count": 90,
   "id": "9080d07e-5470-4d5c-ac86-6df626589098",
   "metadata": {},
   "outputs": [
    {
     "name": "stdout",
     "output_type": "stream",
     "text": [
      "End\n"
     ]
    }
   ],
   "source": [
    "GBDT_model = GradientBoostingClassifier(max_depth = 1,\n",
    "n_estimators = 153, learning_rate = .12, subsample = .87)\n",
    "GBDT_model.fit(X_train, y_train)\n",
    "print('End')"
   ]
  },
  {
   "cell_type": "code",
   "execution_count": 91,
   "id": "733b756f-b717-4d04-a609-f64ee0abaf17",
   "metadata": {},
   "outputs": [],
   "source": [
    "y_GBDT_pred = GBDT_model.predict(X_test)"
   ]
  },
  {
   "cell_type": "code",
   "execution_count": 92,
   "id": "8c3de3ab-be08-4c3b-8712-df6e92c4d49b",
   "metadata": {},
   "outputs": [],
   "source": [
    "GBDT_importances = GBDT_model.feature_importances_"
   ]
  },
  {
   "cell_type": "code",
   "execution_count": 93,
   "id": "a10fc1cb-dcfc-40f3-a1b5-32be1838e247",
   "metadata": {},
   "outputs": [
    {
     "data": {
      "image/png": "[encoded data removed]",
      "text/plain": [
       "<Figure size 1000x600 with 1 Axes>"
      ]
     },
     "metadata": {},
     "output_type": "display_data"
    }
   ],
   "source": [
    "indices = np.argsort(GBDT_importances)[::-1]\n",
    "plt.figure(figsize=(10, 6))\n",
    "plt.title(\"GBDT Feature Importance\")\n",
    "plt.bar(range(X_train.shape[1]), GBDT_importances[indices], align='center')\n",
    "plt.xticks(range(X_train.shape[1]), X.columns[indices], rotation=90)\n",
    "plt.show()\n",
    "    "
   ]
  },
  {
   "cell_type": "code",
   "execution_count": 94,
   "id": "e9520eaf-7dee-45b5-a59d-d225350d9cd0",
   "metadata": {},
   "outputs": [
    {
     "name": "stdout",
     "output_type": "stream",
     "text": [
      "Gradient Boost Decision Trees Accuracy: 0.7373134328358208\n"
     ]
    }
   ],
   "source": [
    "GBDT_acc = accuracy_score(y_test, y_GBDT_pred)\n"
   ]
  },
  {
   "cell_type": "code",
   "execution_count": 95,
   "id": "3e06c4b6-e5f3-4b50-893e-80ef17571102",
   "metadata": {},
   "outputs": [
    {
     "name": "stdout",
     "output_type": "stream",
     "text": [
      "GBDT model saved successfully!\n"
     ]
    }
   ],
   "source": [
    "import pickle\n",
    "\n",
    "# Assuming you have a trained GBDT model called 'GBDT_model'\n",
    "# Save the trained GBDT model to a .pkl file\n",
    "with open('GBDT_model.pkl', 'wb') as file:\n",
    "    pickle.dump(GBDT_model, file)\n",
    "\n",
    "print(\"GBDT model saved successfully!\")\n"
   ]
  },
  {
   "cell_type": "code",
   "execution_count": 142,
   "id": "e4b08391-940e-43cc-91de-be194463a145",
   "metadata": {},
   "outputs": [
    {
     "name": "stdout",
     "output_type": "stream",
     "text": [
      "GBDT model loaded successfully!\n",
      "Prediction: ['high risk']\n"
     ]
    },
    {
     "name": "stderr",
     "output_type": "stream",
     "text": [
      "/opt/anaconda3/lib/python3.12/site-packages/sklearn/base.py:493: UserWarning: X does not have valid feature names, but GradientBoostingClassifier was fitted with feature names\n",
      "  warnings.warn(\n"
     ]
    }
   ],
   "source": [
    "import numpy as np\n",
    "import pickle\n",
    "\n",
    "# Load the saved GBDT model\n",
    "try:\n",
    "    with open('GBDT_model.pkl', 'rb') as file:\n",
    "        GBDT_model_loaded = pickle.load(file)\n",
    "    print(\"GBDT model loaded successfully!\")\n",
    "\n",
    "    # Example of correct input format (make sure this matches the training data format)\n",
    "    # Replace this with your actual 21 features.\n",
    "    sample_data = np.array([[25, 120, 80, 100, 36.5, 75]])  # Additional features\n",
    "\n",
    "    # Make prediction using the loaded model\n",
    "    prediction = GBDT_model_loaded.predict(sample_data)\n",
    "    print(f\"Prediction: {prediction}\")\n",
    "\n",
    "except Exception as e:\n",
    "    print(f\"Error loading GBDT model: {e}\")\n"
   ]
  },
  {
   "cell_type": "code",
   "execution_count": 98,
   "id": "acbd81eb-ebb3-4884-b365-16dbf4ab68fb",
   "metadata": {},
   "outputs": [
    {
     "name": "stdout",
     "output_type": "stream",
     "text": [
      "Current working directory: /Users/alyssaking\n"
     ]
    }
   ],
   "source": [
    "print(\"Current working directory:\", os.getcwd())"
   ]
  },
  {
   "cell_type": "code",
   "execution_count": 103,
   "id": "0243e51a-77aa-444b-b8a8-a11201deedf4",
   "metadata": {},
   "outputs": [
    {
     "name": "stdout",
     "output_type": "stream",
     "text": [
      "Model saved successfully in the 'models' folder!\n"
     ]
    }
   ],
   "source": [
    "import pickle\n",
    "\n",
    "# Assuming GBDT_model is your trained model\n",
    "with open('Desktop/untitled folder/models/GBDT_model.pkl', 'wb') as file:\n",
    "    pickle.dump(GBDT_model, file)\n",
    "\n",
    "print(\"Model saved successfully in the 'models' folder!\")\n"
   ]
  },
  {
   "cell_type": "code",
   "execution_count": 141,
   "id": "10aaf9d0-ce0e-49e7-aea5-89aa41e7b0f5",
   "metadata": {},
   "outputs": [
    {
     "data": {
      "text/html": [
       "<div>\n",
       "<style scoped>\n",
       "    .dataframe tbody tr th:only-of-type {\n",
       "        vertical-align: middle;\n",
       "    }\n",
       "\n",
       "    .dataframe tbody tr th {\n",
       "        vertical-align: top;\n",
       "    }\n",
       "\n",
       "    .dataframe thead th {\n",
       "        text-align: right;\n",
       "    }\n",
       "</style>\n",
       "<table border=\"1\" class=\"dataframe\">\n",
       "  <thead>\n",
       "    <tr style=\"text-align: right;\">\n",
       "      <th></th>\n",
       "      <th>Age</th>\n",
       "      <th>SystolicBP</th>\n",
       "      <th>DiastolicBP</th>\n",
       "      <th>BS</th>\n",
       "      <th>BodyTemp</th>\n",
       "      <th>HeartRate</th>\n",
       "      <th>RiskLevel</th>\n",
       "    </tr>\n",
       "  </thead>\n",
       "  <tbody>\n",
       "    <tr>\n",
       "      <th>0</th>\n",
       "      <td>25</td>\n",
       "      <td>130</td>\n",
       "      <td>80</td>\n",
       "      <td>15.0</td>\n",
       "      <td>98.0</td>\n",
       "      <td>86</td>\n",
       "      <td>3</td>\n",
       "    </tr>\n",
       "    <tr>\n",
       "      <th>1</th>\n",
       "      <td>35</td>\n",
       "      <td>140</td>\n",
       "      <td>90</td>\n",
       "      <td>13.0</td>\n",
       "      <td>98.0</td>\n",
       "      <td>70</td>\n",
       "      <td>3</td>\n",
       "    </tr>\n",
       "    <tr>\n",
       "      <th>2</th>\n",
       "      <td>29</td>\n",
       "      <td>90</td>\n",
       "      <td>70</td>\n",
       "      <td>8.0</td>\n",
       "      <td>100.0</td>\n",
       "      <td>80</td>\n",
       "      <td>3</td>\n",
       "    </tr>\n",
       "    <tr>\n",
       "      <th>3</th>\n",
       "      <td>30</td>\n",
       "      <td>140</td>\n",
       "      <td>85</td>\n",
       "      <td>7.0</td>\n",
       "      <td>98.0</td>\n",
       "      <td>70</td>\n",
       "      <td>3</td>\n",
       "    </tr>\n",
       "    <tr>\n",
       "      <th>4</th>\n",
       "      <td>35</td>\n",
       "      <td>120</td>\n",
       "      <td>60</td>\n",
       "      <td>6.1</td>\n",
       "      <td>98.0</td>\n",
       "      <td>76</td>\n",
       "      <td>1</td>\n",
       "    </tr>\n",
       "  </tbody>\n",
       "</table>\n",
       "</div>"
      ],
      "text/plain": [
       "   Age  SystolicBP  DiastolicBP    BS  BodyTemp  HeartRate  RiskLevel\n",
       "0   25         130           80  15.0      98.0         86          3\n",
       "1   35         140           90  13.0      98.0         70          3\n",
       "2   29          90           70   8.0     100.0         80          3\n",
       "3   30         140           85   7.0      98.0         70          3\n",
       "4   35         120           60   6.1      98.0         76          1"
      ]
     },
     "execution_count": 141,
     "metadata": {},
     "output_type": "execute_result"
    }
   ],
   "source": [
    "df_maternal.head()"
   ]
  },
  {
   "cell_type": "code",
   "execution_count": null,
   "id": "dde3d505-5e23-4af7-8007-fcbd6bd3cb4d",
   "metadata": {},
   "outputs": [],
   "source": []
  }
 ],
 "metadata": {
  "kernelspec": {
   "display_name": "Python 3 (ipykernel)",
   "language": "python",
   "name": "python3"
  },
  "language_info": {
   "codemirror_mode": {
    "name": "ipython",
    "version": 3
   },
   "file_extension": ".py",
   "mimetype": "text/x-python",
   "name": "python",
   "nbconvert_exporter": "python",
   "pygments_lexer": "ipython3",
   "version": "3.12.4"
  }
 },
 "nbformat": 4,
 "nbformat_minor": 5
}
